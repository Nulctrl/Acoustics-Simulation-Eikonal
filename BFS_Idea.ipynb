{
 "cells": [
  {
   "cell_type": "code",
   "execution_count": null,
   "metadata": {},
   "outputs": [],
   "source": [
    "import meshzoo\n",
    "import numpy as np\n",
    "import pyvista as pv\n",
    "import vtk"
   ]
  },
  {
   "cell_type": "code",
   "execution_count": null,
   "metadata": {},
   "outputs": [],
   "source": [
    "V, F = meshzoo.icosa_sphere(5)"
   ]
  },
  {
   "cell_type": "code",
   "execution_count": null,
   "metadata": {},
   "outputs": [],
   "source": [
    "plotter = pv.Plotter()\n",
    "plotter.add_mesh(pv.UnstructuredGrid({vtk.VTK_TRIANGLE: F}, V))\n",
    "plotter.show()"
   ]
  },
  {
   "cell_type": "code",
   "execution_count": null,
   "metadata": {},
   "outputs": [],
   "source": [
    "grid1=pv.UnstructuredGrid({vtk.VTK_TRIANGLE: F}, V)\n",
    "pv.save_meshio(\"06.obj\", grid1)"
   ]
  },
  {
   "cell_type": "code",
   "execution_count": null,
   "metadata": {},
   "outputs": [],
   "source": [
    "F.dtype"
   ]
  },
  {
   "cell_type": "code",
   "execution_count": null,
   "metadata": {},
   "outputs": [],
   "source": [
    "F2F = dict()\n",
    "E2F = dict()\n",
    "\n",
    "def add_to_F2F(i, j):\n",
    "    if i not in F2F:\n",
    "        F2F[i] = set()\n",
    "    F2F[i].add(j)\n",
    "\n",
    "for i, (i0, i1, i2) in enumerate(F):\n",
    "    e0 = (min(i0, i1), max(i0, i1))\n",
    "    e1 = (min(i0, i2), max(i0, i2))\n",
    "    e2 = (min(i1, i2), max(i1, i2))\n",
    "    for e in [e0, e1, e2]:\n",
    "        if e not in E2F:\n",
    "            E2F[e] = set()\n",
    "        else:\n",
    "            assert len(E2F[e]) == 1\n",
    "            i_other = list(E2F[e])[0]\n",
    "            add_to_F2F(i, i_other)\n",
    "            add_to_F2F(i_other, i) # unnecessary?\n",
    "        E2F[e].add(i)"
   ]
  },
  {
   "cell_type": "code",
   "execution_count": null,
   "metadata": {},
   "outputs": [],
   "source": [
    "F[0], F[1], F[9]"
   ]
  },
  {
   "cell_type": "code",
   "execution_count": null,
   "metadata": {
    "scrolled": true
   },
   "outputs": [],
   "source": [
    "queue = [0]\n",
    "visited = np.zeros(F.shape[0], dtype=bool)\n",
    "count = 0\n",
    "printer=1\n",
    "while queue:\n",
    "    i = queue.pop(0)\n",
    "    while visited[i]:\n",
    "        if len(queue)==0:\n",
    "            printer=0\n",
    "            break\n",
    "        i = queue.pop(0)\n",
    "    if printer==0:\n",
    "        break\n",
    "    print(i)\n",
    "    visited[i] = True\n",
    "    for i_other in F2F[i]:\n",
    "        if not visited[i_other]:\n",
    "            queue.append(i_other)\n",
    "    count += 1"
   ]
  },
  {
   "cell_type": "code",
   "execution_count": null,
   "metadata": {},
   "outputs": [],
   "source": [
    "count"
   ]
  },
  {
   "cell_type": "code",
   "execution_count": null,
   "metadata": {},
   "outputs": [],
   "source": [
    "F.shape[0]"
   ]
  }
 ],
 "metadata": {
  "kernelspec": {
   "display_name": "Python 3 (ipykernel)",
   "language": "python",
   "name": "python3"
  },
  "language_info": {
   "codemirror_mode": {
    "name": "ipython",
    "version": 3
   },
   "file_extension": ".py",
   "mimetype": "text/x-python",
   "name": "python",
   "nbconvert_exporter": "python",
   "pygments_lexer": "ipython3",
   "version": "3.9.12"
  }
 },
 "nbformat": 4,
 "nbformat_minor": 4
}
