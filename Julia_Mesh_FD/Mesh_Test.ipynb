{
 "cells": [
  {
   "cell_type": "code",
   "execution_count": null,
   "id": "ec5a1acd",
   "metadata": {},
   "outputs": [],
   "source": [
    "using BenchmarkTools\n",
    "using BoundingVolumeHierarchies\n",
    "using LinearAlgebra\n",
    "using StatsBase\n",
    "using FileIO\n",
    "import BoundingVolumeHierarchies: Segment, intersection\n",
    "import GeometryTypes: HomogenousMesh\n",
    "import BoundingVolumeHierarchies: PointT, _normal\n",
    "using Meshes, MeshViz"
   ]
  },
  {
   "cell_type": "code",
   "execution_count": null,
   "id": "2c025052",
   "metadata": {
    "scrolled": true
   },
   "outputs": [],
   "source": [
    "mesh1 = load(\"04.obj\")\n",
    "size(mesh1)"
   ]
  },
  {
   "cell_type": "code",
   "execution_count": null,
   "id": "e109a44e",
   "metadata": {},
   "outputs": [],
   "source": [
    "max_x=-Inf\n",
    "min_x= Inf\n",
    "max_y=-Inf\n",
    "min_y= Inf\n",
    "max_z=-Inf\n",
    "min_z= Inf\n",
    "\n",
    "for i=1:size(mesh1)\n",
    "    for j=1:3\n",
    "        if mesh1[i][j][1]>max_x\n",
    "            max_x=mesh1[i][j][1]\n",
    "        end\n",
    "        if mesh1[i][j][1]<min_x\n",
    "            min_x=mesh1[i][j][1]\n",
    "        end\n",
    "        if mesh1[i][j][2]>max_y\n",
    "             max_y=mesh1[i][j][2]\n",
    "        end\n",
    "        if mesh1[i][j][2]<min_y\n",
    "            min_y=mesh1[i][j][2]\n",
    "        end\n",
    "        if mesh1[i][j][3]>max_z\n",
    "            max_z=mesh1[i][j][3]\n",
    "        end\n",
    "        if mesh1[i][j][3]<min_z\n",
    "            min_z=mesh1[i][j][3]\n",
    "        end\n",
    "    end\n",
    "end\n",
    "print((max_x,max_y,max_z))\n",
    "print((min_x,min_y,min_z))"
   ]
  },
  {
   "cell_type": "code",
   "execution_count": null,
   "id": "c8decab1",
   "metadata": {},
   "outputs": [],
   "source": [
    "start=Point3([min_x-0.1,min_y-0.1,min_z-0.1])\n",
    "finish=Point3([max_x+0.1,max_y+0.1,max_z+0.1])\n",
    "grid=CartesianGrid(start, finish, dims=(round(Int,(max_x-min_x)/0.2),round(Int,(max_y-min_y)/0.2),round(Int,(max_z-min_z)/0.2)))\n"
   ]
  },
  {
   "cell_type": "code",
   "execution_count": null,
   "id": "cbccbc0b",
   "metadata": {},
   "outputs": [],
   "source": [
    "import WGLMakie as Mke\n",
    "size1=size(grid)[1]*size(grid)[2]*size(grid)[3]\n",
    "print(size1)\n",
    "viz(grid, showfacets = true)"
   ]
  },
  {
   "cell_type": "code",
   "execution_count": null,
   "id": "86dfb7c5",
   "metadata": {},
   "outputs": [],
   "source": [
    "Meshes.vertices(grid[1])[1]"
   ]
  },
  {
   "cell_type": "code",
   "execution_count": null,
   "id": "fb745d6e",
   "metadata": {},
   "outputs": [],
   "source": [
    "i=1\n",
    "segm = Array{Segment}(undef, 12)\n",
    "segm[1] = Segment(coordinates(Meshes.vertices(grid[i])[1]), coordinates(Meshes.vertices(grid[i])[2]))\n",
    "segm[2] = Segment(coordinates(Meshes.vertices(grid[i])[2]), coordinates(Meshes.vertices(grid[i])[3]))\n",
    "segm[3] = Segment(coordinates(Meshes.vertices(grid[i])[3]), coordinates(Meshes.vertices(grid[i])[4]))\n",
    "segm[4] = Segment(coordinates(Meshes.vertices(grid[i])[4]), coordinates(Meshes.vertices(grid[i])[1]))\n",
    "segm[5] = Segment(coordinates(Meshes.vertices(grid[i])[5]), coordinates(Meshes.vertices(grid[i])[6]))\n",
    "segm[6] = Segment(coordinates(Meshes.vertices(grid[i])[6]), coordinates(Meshes.vertices(grid[i])[7]))\n",
    "segm[7] = Segment(coordinates(Meshes.vertices(grid[i])[7]), coordinates(Meshes.vertices(grid[i])[8]))\n",
    "segm[8] = Segment(coordinates(Meshes.vertices(grid[i])[8]), coordinates(Meshes.vertices(grid[i])[1]))\n",
    "segm[9] = Segment(coordinates(Meshes.vertices(grid[i])[1]), coordinates(Meshes.vertices(grid[i])[5]))\n",
    "segm[10] = Segment(coordinates(Meshes.vertices(grid[i])[2]), coordinates(Meshes.vertices(grid[i])[6]))\n",
    "segm[11] = Segment(coordinates(Meshes.vertices(grid[i])[3]), coordinates(Meshes.vertices(grid[i])[7]))\n",
    "segm[12] = Segment(coordinates(Meshes.vertices(grid[i])[4]), coordinates(Meshes.vertices(grid[i])[8]))"
   ]
  },
  {
   "cell_type": "code",
   "execution_count": null,
   "id": "94ff14a4",
   "metadata": {},
   "outputs": [],
   "source": [
    "#create point sets and face sets to build the BVH\n",
    "rverts = [[0.0,0.0,0.0]]\n",
    "rfaces = [[0,0,0]]\n",
    "for i=1:5375\n",
    "    for j=1:3\n",
    "        push!(rverts,mesh1[i][j])\n",
    "    end\n",
    "    connec1=[[3i-2,3i-1,3i]]\n",
    "    append!(rfaces,connec1)    \n",
    "end\n",
    "\n",
    "popfirst!(rfaces)\n",
    "popfirst!(rverts)\n",
    "\n",
    "#create BVH\n",
    "normals = [_normal(rverts[f]) for f in rfaces] # mesh cell normals\n",
    "rBVH = @time buildBVH(rverts, rfaces)"
   ]
  },
  {
   "cell_type": "code",
   "execution_count": null,
   "id": "51ff3f58",
   "metadata": {},
   "outputs": [],
   "source": [
    "#naive intersection\n",
    "function intersection1(s::Segment, cell::Vector{Vector{Float64}}, cell_normal)\n",
    "    dot(cell_normal, s.a-cell[1]) <= zero(Float32) && return false\n",
    "    dot(cell_normal, s.b-cell[1]) >= zero(Float32) && return false\n",
    "    BA = s.a - s.b\n",
    "    dot(cross(cell[2]-cell[1], s.b-cell[2]), BA) < zero(Float32) && return false\n",
    "    dot(cross(cell[3]-cell[2], s.b-cell[3]), BA) < zero(Float32) && return false\n",
    "    dot(cross(cell[1]-cell[3], s.b-cell[1]), BA) < zero(Float32) && return false\n",
    "    return true\n",
    "end\n",
    "\n",
    "function intersection2(s::Segment, bvh::BVH, vertices, faces, normals)\n",
    "    for i=1:5375\n",
    "        if(intersection1(s, vertices[faces[i]], normals[i]))\n",
    "            return true\n",
    "        end\n",
    "    end\n",
    "    return false\n",
    "end\n",
    "\n",
    "function intersection3(s::Segment, bvh::BVH, vertices, faces, normals)\n",
    "    any(intersection1(s, vertices[faces[i]], normals[i]) for i=1:5375) && return true\n",
    "    return false\n",
    "end"
   ]
  },
  {
   "cell_type": "code",
   "execution_count": null,
   "id": "512e52c1",
   "metadata": {},
   "outputs": [],
   "source": [
    "seg = Segment(Float32[-0.64122, 1.55488, 2.0093], Float32[-0.64122, 2.22515, 2.0093])"
   ]
  },
  {
   "cell_type": "code",
   "execution_count": null,
   "id": "8f31cc04",
   "metadata": {},
   "outputs": [],
   "source": [
    "#comparison of with(out)BVH\n",
    "@time intersection(seg, rBVH, rverts, rfaces, normals)"
   ]
  },
  {
   "cell_type": "code",
   "execution_count": null,
   "id": "916b182d",
   "metadata": {},
   "outputs": [],
   "source": [
    "@time intersection3(seg, rBVH, rverts, rfaces, normals)"
   ]
  },
  {
   "cell_type": "code",
   "execution_count": null,
   "id": "ffb10451",
   "metadata": {},
   "outputs": [],
   "source": [
    "global count=0\n",
    "if(any(intersection(segm[i], rBVH, rverts, rfaces, normals) for i=1:12))\n",
    "    count+=1\n",
    "end\n",
    "\n",
    "count"
   ]
  },
  {
   "cell_type": "code",
   "execution_count": null,
   "id": "a5f5a0f8",
   "metadata": {},
   "outputs": [],
   "source": [
    "Meshes.faces"
   ]
  },
  {
   "cell_type": "code",
   "execution_count": null,
   "id": "1341f478",
   "metadata": {},
   "outputs": [],
   "source": [
    "global segm = Array{Segment}(undef, 12)\n",
    "global count=0\n",
    "intersectionlist = Any[]\n",
    "for i=1:size1\n",
    "    segm[1] = Segment(coordinates(Meshes.vertices(grid[i])[1]), coordinates(Meshes.vertices(grid[i])[2]))\n",
    "    segm[2] = Segment(coordinates(Meshes.vertices(grid[i])[2]), coordinates(Meshes.vertices(grid[i])[3]))\n",
    "    segm[3] = Segment(coordinates(Meshes.vertices(grid[i])[3]), coordinates(Meshes.vertices(grid[i])[4]))\n",
    "    segm[4] = Segment(coordinates(Meshes.vertices(grid[i])[4]), coordinates(Meshes.vertices(grid[i])[1]))\n",
    "    segm[5] = Segment(coordinates(Meshes.vertices(grid[i])[5]), coordinates(Meshes.vertices(grid[i])[6]))\n",
    "    segm[6] = Segment(coordinates(Meshes.vertices(grid[i])[6]), coordinates(Meshes.vertices(grid[i])[7]))\n",
    "    segm[7] = Segment(coordinates(Meshes.vertices(grid[i])[7]), coordinates(Meshes.vertices(grid[i])[8]))\n",
    "    segm[8] = Segment(coordinates(Meshes.vertices(grid[i])[8]), coordinates(Meshes.vertices(grid[i])[1]))\n",
    "    segm[9] = Segment(coordinates(Meshes.vertices(grid[i])[1]), coordinates(Meshes.vertices(grid[i])[5]))\n",
    "    segm[10] = Segment(coordinates(Meshes.vertices(grid[i])[2]), coordinates(Meshes.vertices(grid[i])[6]))\n",
    "    segm[11] = Segment(coordinates(Meshes.vertices(grid[i])[3]), coordinates(Meshes.vertices(grid[i])[7]))\n",
    "    segm[12] = Segment(coordinates(Meshes.vertices(grid[i])[4]), coordinates(Meshes.vertices(grid[i])[8]))\n",
    "    if(any(intersection(segm[i], rBVH, rverts, rfaces, normals) for i=1:12))\n",
    "        count+=1\n",
    "        push!(intersectionlist,i)\n",
    "    end\n",
    "end\n",
    "    \n",
    "    \n",
    "    "
   ]
  },
  {
   "cell_type": "code",
   "execution_count": null,
   "id": "7bec3909",
   "metadata": {
    "scrolled": true
   },
   "outputs": [],
   "source": [
    "length(intersectionlist)"
   ]
  },
  {
   "cell_type": "code",
   "execution_count": null,
   "id": "833c62ff",
   "metadata": {},
   "outputs": [],
   "source": [
    "IntersectionType"
   ]
  },
  {
   "cell_type": "code",
   "execution_count": null,
   "id": "a9f4698a",
   "metadata": {},
   "outputs": [],
   "source": [
    "f=viz(grid[intersectionlist[1]])\n",
    "for i=2:length(intersectionlist)\n",
    "    viz!(grid[intersectionlist[i]])\n",
    "end"
   ]
  },
  {
   "cell_type": "code",
   "execution_count": null,
   "id": "381a49cb",
   "metadata": {},
   "outputs": [],
   "source": [
    "display(f)"
   ]
  },
  {
   "cell_type": "code",
   "execution_count": null,
   "id": "ccb4ea56",
   "metadata": {},
   "outputs": [],
   "source": [
    "#create point sets and connection sets to form the mesh\n",
    "points = Point3[]\n",
    "connec = connect.([(0,0,0)], Ngon)\n",
    "\n",
    "for i=1:5375\n",
    "    for j=1:3\n",
    "        push!(points,Point3(mesh1[i][j]))\n",
    "    end\n",
    "    A=(3i-2,3i-1,3i)\n",
    "    connect.([A],Ngon)\n",
    "    append!(connec,connect.([A],Ngon))    \n",
    "end\n",
    "\n",
    "popfirst!(connec)\n",
    "\n",
    "# the processed mesh\n",
    "processed_mesh = SimpleMesh(points, connec)\n",
    "\n",
    "viz(processed_mesh, showfacets = true)"
   ]
  },
  {
   "cell_type": "code",
   "execution_count": null,
   "id": "45d15d67",
   "metadata": {},
   "outputs": [],
   "source": [
    "#currently unsuccessful plotting of BVH\n",
    "using Makie\n",
    "\n",
    "## Plot the mesh together with the bounding boxes in the Bounding Volume Hierarchy\n",
    "\n",
    "scene = Scene(center=false)\n",
    "\n",
    "wireframe!(scene, mesh1, linewidth=0.5, color=:black)\n",
    "\n",
    "for bv in boundingvolumes(rBVH)\n",
    "    wireframe!(scene, HomogenousMesh(vertices(bv), faces(bv)), linewidth = 0.5, color=:red)\n",
    "end\n",
    "\n",
    "cam = Makie.cameracontrols(scene)\n",
    "cam.upvector[] = Point(0.,1.,0.)\n",
    "cam.eyeposition[] = Point(3,2.,4)\n",
    "update_cam!(scene, cam)\n",
    "\n",
    "display(scene)\n",
    "\n",
    "\n",
    "## benchmark naive method vs using a BVH\n",
    "\n",
    "# segments from a fixed source to a random point constrained to a plane\n",
    "# such that the mesh is between the source and the plane\n",
    "create_segments() =  [Segment(PointT(1, 0.4, 0.4),\n",
    "                              PointT(-0.4, rand(), 2*rand().-0.7)) for _ in 1:10_000]\n",
    "\n",
    "segments = create_segments()\n",
    "\n",
    "# check all meshcell for each segment\n",
    "naiveintersection(s, verts, faces, normals) = any(intersection(s, verts[f], n) for (f,n) in zip(faces, normals))\n",
    "\n",
    "naive_hits = @btime [naiveintersection(s, rverts, rfaces, rnormals) for s in segments]\n",
    "bvh_hits = @btime [intersection(s, rBVH, rverts, rfaces, rnormals) for s in segments]\n",
    "@assert all(bvh_hits .== naive_hits)\n",
    "\n",
    "\n",
    "##\n",
    "\n",
    "# Plot the mesh together with a scatter of the end points of a set of segments\n",
    "# all segments starts at the same center point (large orange ball)\n",
    "# all segments end on a plane on the opposite side of the cat mesh,\n",
    "# end ponints are colored black if the segment intersects with the catmesh\n",
    "# and orange otherwise.\n",
    "\n",
    "scene = Scene(center=false)\n",
    "\n",
    "wireframe!(scene, mesh1, linewidth=0.5, color=:black)\n",
    "scatter!(scene, [s.b for (s,h) in zip(segments, bvh_hits) if h], color=:black, markersize=0.01)\n",
    "scatter!(scene, [s.b for (s,h) in zip(segments, bvh_hits) if !h], color=:orange, markersize=0.01)\n",
    "scatter!(scene, [segments[1].a], color=:orange)\n",
    "\n",
    "cam = Makie.cameracontrols(scene)\n",
    "cam.upvector[] = Point(0.,1.,0.)\n",
    "cam.eyeposition[] = Point(3,2.,4)\n",
    "update_cam!(scene, cam)\n",
    "\n",
    "display(scene)"
   ]
  },
  {
   "cell_type": "code",
   "execution_count": null,
   "id": "78d96178",
   "metadata": {},
   "outputs": [],
   "source": []
  }
 ],
 "metadata": {
  "kernelspec": {
   "display_name": "Julia 1.8.5",
   "language": "julia",
   "name": "julia-1.8"
  },
  "language_info": {
   "file_extension": ".jl",
   "mimetype": "application/julia",
   "name": "julia",
   "version": "1.8.5"
  }
 },
 "nbformat": 4,
 "nbformat_minor": 5
}
